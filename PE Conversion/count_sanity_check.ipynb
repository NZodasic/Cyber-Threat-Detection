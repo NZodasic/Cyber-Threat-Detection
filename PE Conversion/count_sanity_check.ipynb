{
 "cells": [
  {
   "cell_type": "markdown",
   "id": "5bd277cb",
   "metadata": {},
   "source": [
    "1) Xác minh nhanh dataset (count / sanity check)\n",
    "Đếm số file theo folder (biết ngay class balance):"
   ]
  },
  {
   "cell_type": "code",
   "execution_count": null,
   "id": "07f9cdb3",
   "metadata": {
    "vscode": {
     "languageId": "plaintext"
    }
   },
   "outputs": [],
   "source": [
    "import os, collections\n",
    "root = \"Dataset\"\n",
    "cnt = collections.Counter()\n",
    "for dirpath, _, files in os.walk(root):\n",
    "    for f in files:\n",
    "        if f.lower().endswith(\".exe\"):\n",
    "            # parent label: giả sử folder 1 cấp trên là label (Benign hoặc Virus)\n",
    "            label = os.path.basename(os.path.dirname(dirpath)) if os.path.basename(dirpath) else os.path.basename(dirpath)\n",
    "            cnt[label] += 1\n",
    "print(cnt)"
   ]
  },
  {
   "cell_type": "markdown",
   "id": "35578d2b",
   "metadata": {},
   "source": [
    "2) Kiểm tra file có phải PE hợp lệ (sanity)\n",
    "Skip files không phải PE (dùng pefile):"
   ]
  },
  {
   "cell_type": "code",
   "execution_count": null,
   "id": "db051157",
   "metadata": {
    "vscode": {
     "languageId": "plaintext"
    }
   },
   "outputs": [],
   "source": [
    "import pefile, os\n",
    "bad=[]\n",
    "for root,_,files in os.walk(\"Dataset\"):\n",
    "  for f in files:\n",
    "    if f.lower().endswith(\".exe\"):\n",
    "      p=os.path.join(root,f)\n",
    "      try:\n",
    "        pefile.PE(p)\n",
    "      except Exception:\n",
    "        bad.append(p)\n",
    "print(\"Bad files:\", bad)\n"
   ]
  },
  {
   "cell_type": "code",
   "execution_count": null,
   "id": "0f27ce83",
   "metadata": {
    "vscode": {
     "languageId": "plaintext"
    }
   },
   "outputs": [],
   "source": [
    "python bytes_to_png_batch.py --input_dir Dataset --out_dir converted --width 256"
   ]
  },
  {
   "cell_type": "markdown",
   "id": "12fbb86a",
   "metadata": {},
   "source": [
    "Kiểm tra 1 ảnh và reconstruct thử:"
   ]
  },
  {
   "cell_type": "code",
   "execution_count": null,
   "id": "3d539ae5",
   "metadata": {
    "vscode": {
     "languageId": "plaintext"
    }
   },
   "outputs": [],
   "source": [
    "python png_back_to_exe.py --png converted/images/Benign/sample.exe.png --meta converted/meta/Benign/sample.exe.json --out restored\n",
    "# so sánh file gốc và restored bằng sha256 hoặc cmp\n",
    "sha256sum Dataset/Benign/sample.exe restored/sample.exe\n"
   ]
  },
  {
   "cell_type": "markdown",
   "id": "406be532",
   "metadata": {},
   "source": [
    "Nếu khớp => reversible OK."
   ]
  },
  {
   "cell_type": "markdown",
   "id": "84e80000",
   "metadata": {},
   "source": [
    "4) Trích xuất features dạng bảng (header, sections, dlls, entropy, opcodes nếu có)\n",
    "\n",
    "Chạy merge_features.py (script đã chuẩn bị) để tạo merged_features.csv:\n"
   ]
  },
  {
   "cell_type": "code",
   "execution_count": null,
   "id": "30145b15",
   "metadata": {
    "vscode": {
     "languageId": "plaintext"
    }
   },
   "outputs": [],
   "source": [
    "python merge_features.py --input_dir Dataset --out_csv merged_features.csv"
   ]
  },
  {
   "cell_type": "markdown",
   "id": "5c0e2d51",
   "metadata": {},
   "source": [
    "Nếu bạn chưa cài capstone để lấy opcodes, cài trước hoặc chạy với option skip opcode (mình có thể cập nhật script để skip tự động nếu thiếu capstone).\n",
    "\n",
    "Cần chú ý: bước này có thể lâu (disassembly)."
   ]
  },
  {
   "cell_type": "markdown",
   "id": "9ba55281",
   "metadata": {},
   "source": [
    "5) EDA (đọc CSV + images)\n",
    "\n",
    "Mở notebook (mình sẽ cung cấp) hoặc chạy nhanh:\n",
    "\n",
    "Kiểm tra balance:\n"
   ]
  },
  {
   "cell_type": "code",
   "execution_count": null,
   "id": "eeb45753",
   "metadata": {
    "vscode": {
     "languageId": "plaintext"
    }
   },
   "outputs": [],
   "source": [
    "import pandas as pd\n",
    "df = pd.read_csv(\"merged_features.csv\")\n",
    "print(df[\"label\"].value_counts())"
   ]
  },
  {
   "cell_type": "markdown",
   "id": "e5b2c2a9",
   "metadata": {},
   "source": [
    "Plot file size / entropy distribution:"
   ]
  },
  {
   "cell_type": "code",
   "execution_count": null,
   "id": "ce0a716a",
   "metadata": {
    "vscode": {
     "languageId": "plaintext"
    }
   },
   "outputs": [],
   "source": [
    "\n",
    "import seaborn as sns\n",
    "sns.histplot(df, x=\"file_size\", hue=\"label\", log_scale=True)\n",
    "sns.histplot(df, x=\"file_entropy\", hue=\"label\", bins=50)"
   ]
  },
  {
   "cell_type": "markdown",
   "id": "4a2bf1f3",
   "metadata": {},
   "source": [
    "PCA t-SNE trên một tập con numeric features (header + opcodes) để xem phân tách.\n",
    "\n",
    "Mục tiêu: phát hiện imbalance / outliers / packed files (entropy cao)."
   ]
  }
 ],
 "metadata": {
  "language_info": {
   "name": "python"
  }
 },
 "nbformat": 4,
 "nbformat_minor": 5
}
